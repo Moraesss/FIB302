{
  "nbformat": 4,
  "nbformat_minor": 0,
  "metadata": {
    "colab": {
      "provenance": [],
      "authorship_tag": "ABX9TyPkV99MDdM1kpFPKfNZ3U1C",
      "include_colab_link": true
    },
    "kernelspec": {
      "name": "python3",
      "display_name": "Python 3"
    },
    "language_info": {
      "name": "python"
    }
  },
  "cells": [
    {
      "cell_type": "markdown",
      "metadata": {
        "id": "view-in-github",
        "colab_type": "text"
      },
      "source": [
        "<a href=\"https://colab.research.google.com/github/Moraesss/FIB302/blob/main/Lista_3_de_Python.ipynb\" target=\"_parent\"><img src=\"https://colab.research.google.com/assets/colab-badge.svg\" alt=\"Open In Colab\"/></a>"
      ]
    },
    {
      "cell_type": "markdown",
      "source": [
        "Lista 1 de Python"
      ],
      "metadata": {
        "id": "mdBz8yCz6Apb"
      }
    },
    {
      "cell_type": "markdown",
      "source": [
        "Exercicio 1\n",
        "\n",
        "Faça um programa para calcular a sequencia de Fibonacci até 1000."
      ],
      "metadata": {
        "id": "EtnGURMT6B_4"
      }
    },
    {
      "cell_type": "code",
      "source": [
        "#Define a função de Fibonacci.\n",
        "def fibonacci(n):\n",
        "    \"\"\"Retorna o n-ésimo número da sequência de Fibonacci.\"\"\"\n",
        "    if n < 2:\n",
        "        return n\n",
        "    else:\n",
        "        return fibonacci(n-1) + fibonacci(n-2)\n",
        "\n",
        "#Calcula a sequência de Fibonacci até 1000.\n",
        "fibonacci_sequence = [fibonacci(i) for i in range(21)]\n",
        "\n",
        "#Imprime a sequência de Fibonacci.\n",
        "print(\"Sequência de Fibonacci até 21:\")\n",
        "print(fibonacci_sequence)\n",
        "\n",
        "#Coloquei so ate 21 pois em 50 ja ficou multiplos minutos rodando sem terminar."
      ],
      "metadata": {
        "colab": {
          "base_uri": "https://localhost:8080/"
        },
        "id": "QONuzR5r6DVu",
        "outputId": "24030306-52bf-4864-b122-2561fd902734"
      },
      "execution_count": 6,
      "outputs": [
        {
          "output_type": "stream",
          "name": "stdout",
          "text": [
            "Sequência de Fibonacci até 21:\n",
            "[0, 1, 1, 2, 3, 5, 8, 13, 21, 34, 55, 89, 144, 233, 377, 610, 987, 1597, 2584, 4181, 6765]\n"
          ]
        }
      ]
    },
    {
      "cell_type": "markdown",
      "source": [
        "Exercicio 2\n",
        "\n",
        "Usando o inicio de código abaixo, finalize o programa para encontrar o tempo em que o projetil passa de sua altura máxima:\n",
        "from numpy import linspace\n",
        "\n",
        "v0 = 4.5 # velocidade inicial\n",
        "g = 9.81 # aceleração da gravidade\n",
        "t = linspace(0, 1, 1000) # 1000 pontos do intervalo de tempo\n",
        "y = v0*t - 0.5*g*t**2 # calcula todas as alturas do lançamento\n",
        "\n",
        "Ache quando a bola passa de y=0."
      ],
      "metadata": {
        "id": "vbhqfKxh6sT_"
      }
    },
    {
      "cell_type": "code",
      "source": [
        "import numpy\n",
        "\n",
        "v0 = 4.5 #Velocidade inicial\n",
        "g = 9.81 #Aceleração da gravidade\n",
        "t = linspace(0, 1, 1000) #1000 pontos do intervalo de tempo\n",
        "y = v0*t - 0.5*g*t**2 #Calcula todas as alturas do lançamento\n",
        "\n",
        "#Ache quando a bola passa de y=0\n",
        "\n",
        "#Encontra quando a bola passa de y=0.\n",
        "tempo_passagem = t[numpy.where(y > 0)[-1]]\n",
        "\n",
        "#Imprime o tempo de passagem.\n",
        "print(\"Tempo em que o projetil passa de sua altura máxima:\")\n",
        "print(tempo_passagem)"
      ],
      "metadata": {
        "colab": {
          "base_uri": "https://localhost:8080/"
        },
        "id": "u0HIJdvL6xDz",
        "outputId": "b5a85bd3-2641-4f1c-f6c6-ba152bdd5958"
      },
      "execution_count": 8,
      "outputs": [
        {
          "output_type": "stream",
          "name": "stdout",
          "text": [
            "Tempo em que o projetil passa de sua altura máxima:\n",
            "[0.001001   0.002002   0.003003   0.004004   0.00500501 0.00600601\n",
            " 0.00700701 0.00800801 0.00900901 0.01001001 0.01101101 0.01201201\n",
            " 0.01301301 0.01401401 0.01501502 0.01601602 0.01701702 0.01801802\n",
            " 0.01901902 0.02002002 0.02102102 0.02202202 0.02302302 0.02402402\n",
            " 0.02502503 0.02602603 0.02702703 0.02802803 0.02902903 0.03003003\n",
            " 0.03103103 0.03203203 0.03303303 0.03403403 0.03503504 0.03603604\n",
            " 0.03703704 0.03803804 0.03903904 0.04004004 0.04104104 0.04204204\n",
            " 0.04304304 0.04404404 0.04504505 0.04604605 0.04704705 0.04804805\n",
            " 0.04904905 0.05005005 0.05105105 0.05205205 0.05305305 0.05405405\n",
            " 0.05505506 0.05605606 0.05705706 0.05805806 0.05905906 0.06006006\n",
            " 0.06106106 0.06206206 0.06306306 0.06406406 0.06506507 0.06606607\n",
            " 0.06706707 0.06806807 0.06906907 0.07007007 0.07107107 0.07207207\n",
            " 0.07307307 0.07407407 0.07507508 0.07607608 0.07707708 0.07807808\n",
            " 0.07907908 0.08008008 0.08108108 0.08208208 0.08308308 0.08408408\n",
            " 0.08508509 0.08608609 0.08708709 0.08808809 0.08908909 0.09009009\n",
            " 0.09109109 0.09209209 0.09309309 0.09409409 0.0950951  0.0960961\n",
            " 0.0970971  0.0980981  0.0990991  0.1001001  0.1011011  0.1021021\n",
            " 0.1031031  0.1041041  0.10510511 0.10610611 0.10710711 0.10810811\n",
            " 0.10910911 0.11011011 0.11111111 0.11211211 0.11311311 0.11411411\n",
            " 0.11511512 0.11611612 0.11711712 0.11811812 0.11911912 0.12012012\n",
            " 0.12112112 0.12212212 0.12312312 0.12412412 0.12512513 0.12612613\n",
            " 0.12712713 0.12812813 0.12912913 0.13013013 0.13113113 0.13213213\n",
            " 0.13313313 0.13413413 0.13513514 0.13613614 0.13713714 0.13813814\n",
            " 0.13913914 0.14014014 0.14114114 0.14214214 0.14314314 0.14414414\n",
            " 0.14514515 0.14614615 0.14714715 0.14814815 0.14914915 0.15015015\n",
            " 0.15115115 0.15215215 0.15315315 0.15415415 0.15515516 0.15615616\n",
            " 0.15715716 0.15815816 0.15915916 0.16016016 0.16116116 0.16216216\n",
            " 0.16316316 0.16416416 0.16516517 0.16616617 0.16716717 0.16816817\n",
            " 0.16916917 0.17017017 0.17117117 0.17217217 0.17317317 0.17417417\n",
            " 0.17517518 0.17617618 0.17717718 0.17817818 0.17917918 0.18018018\n",
            " 0.18118118 0.18218218 0.18318318 0.18418418 0.18518519 0.18618619\n",
            " 0.18718719 0.18818819 0.18918919 0.19019019 0.19119119 0.19219219\n",
            " 0.19319319 0.19419419 0.1951952  0.1961962  0.1971972  0.1981982\n",
            " 0.1991992  0.2002002  0.2012012  0.2022022  0.2032032  0.2042042\n",
            " 0.20520521 0.20620621 0.20720721 0.20820821 0.20920921 0.21021021\n",
            " 0.21121121 0.21221221 0.21321321 0.21421421 0.21521522 0.21621622\n",
            " 0.21721722 0.21821822 0.21921922 0.22022022 0.22122122 0.22222222\n",
            " 0.22322322 0.22422422 0.22522523 0.22622623 0.22722723 0.22822823\n",
            " 0.22922923 0.23023023 0.23123123 0.23223223 0.23323323 0.23423423\n",
            " 0.23523524 0.23623624 0.23723724 0.23823824 0.23923924 0.24024024\n",
            " 0.24124124 0.24224224 0.24324324 0.24424424 0.24524525 0.24624625\n",
            " 0.24724725 0.24824825 0.24924925 0.25025025 0.25125125 0.25225225\n",
            " 0.25325325 0.25425425 0.25525526 0.25625626 0.25725726 0.25825826\n",
            " 0.25925926 0.26026026 0.26126126 0.26226226 0.26326326 0.26426426\n",
            " 0.26526527 0.26626627 0.26726727 0.26826827 0.26926927 0.27027027\n",
            " 0.27127127 0.27227227 0.27327327 0.27427427 0.27527528 0.27627628\n",
            " 0.27727728 0.27827828 0.27927928 0.28028028 0.28128128 0.28228228\n",
            " 0.28328328 0.28428428 0.28528529 0.28628629 0.28728729 0.28828829\n",
            " 0.28928929 0.29029029 0.29129129 0.29229229 0.29329329 0.29429429\n",
            " 0.2952953  0.2962963  0.2972973  0.2982983  0.2992993  0.3003003\n",
            " 0.3013013  0.3023023  0.3033033  0.3043043  0.30530531 0.30630631\n",
            " 0.30730731 0.30830831 0.30930931 0.31031031 0.31131131 0.31231231\n",
            " 0.31331331 0.31431431 0.31531532 0.31631632 0.31731732 0.31831832\n",
            " 0.31931932 0.32032032 0.32132132 0.32232232 0.32332332 0.32432432\n",
            " 0.32532533 0.32632633 0.32732733 0.32832833 0.32932933 0.33033033\n",
            " 0.33133133 0.33233233 0.33333333 0.33433433 0.33533534 0.33633634\n",
            " 0.33733734 0.33833834 0.33933934 0.34034034 0.34134134 0.34234234\n",
            " 0.34334334 0.34434434 0.34534535 0.34634635 0.34734735 0.34834835\n",
            " 0.34934935 0.35035035 0.35135135 0.35235235 0.35335335 0.35435435\n",
            " 0.35535536 0.35635636 0.35735736 0.35835836 0.35935936 0.36036036\n",
            " 0.36136136 0.36236236 0.36336336 0.36436436 0.36536537 0.36636637\n",
            " 0.36736737 0.36836837 0.36936937 0.37037037 0.37137137 0.37237237\n",
            " 0.37337337 0.37437437 0.37537538 0.37637638 0.37737738 0.37837838\n",
            " 0.37937938 0.38038038 0.38138138 0.38238238 0.38338338 0.38438438\n",
            " 0.38538539 0.38638639 0.38738739 0.38838839 0.38938939 0.39039039\n",
            " 0.39139139 0.39239239 0.39339339 0.39439439 0.3953954  0.3963964\n",
            " 0.3973974  0.3983984  0.3993994  0.4004004  0.4014014  0.4024024\n",
            " 0.4034034  0.4044044  0.40540541 0.40640641 0.40740741 0.40840841\n",
            " 0.40940941 0.41041041 0.41141141 0.41241241 0.41341341 0.41441441\n",
            " 0.41541542 0.41641642 0.41741742 0.41841842 0.41941942 0.42042042\n",
            " 0.42142142 0.42242242 0.42342342 0.42442442 0.42542543 0.42642643\n",
            " 0.42742743 0.42842843 0.42942943 0.43043043 0.43143143 0.43243243\n",
            " 0.43343343 0.43443443 0.43543544 0.43643644 0.43743744 0.43843844\n",
            " 0.43943944 0.44044044 0.44144144 0.44244244 0.44344344 0.44444444\n",
            " 0.44544545 0.44644645 0.44744745 0.44844845 0.44944945 0.45045045\n",
            " 0.45145145 0.45245245 0.45345345 0.45445445 0.45545546 0.45645646\n",
            " 0.45745746 0.45845846 0.45945946 0.46046046 0.46146146 0.46246246\n",
            " 0.46346346 0.46446446 0.46546547 0.46646647 0.46746747 0.46846847\n",
            " 0.46946947 0.47047047 0.47147147 0.47247247 0.47347347 0.47447447\n",
            " 0.47547548 0.47647648 0.47747748 0.47847848 0.47947948 0.48048048\n",
            " 0.48148148 0.48248248 0.48348348 0.48448448 0.48548549 0.48648649\n",
            " 0.48748749 0.48848849 0.48948949 0.49049049 0.49149149 0.49249249\n",
            " 0.49349349 0.49449449 0.4954955  0.4964965  0.4974975  0.4984985\n",
            " 0.4994995  0.5005005  0.5015015  0.5025025  0.5035035  0.5045045\n",
            " 0.50550551 0.50650651 0.50750751 0.50850851 0.50950951 0.51051051\n",
            " 0.51151151 0.51251251 0.51351351 0.51451451 0.51551552 0.51651652\n",
            " 0.51751752 0.51851852 0.51951952 0.52052052 0.52152152 0.52252252\n",
            " 0.52352352 0.52452452 0.52552553 0.52652653 0.52752753 0.52852853\n",
            " 0.52952953 0.53053053 0.53153153 0.53253253 0.53353353 0.53453453\n",
            " 0.53553554 0.53653654 0.53753754 0.53853854 0.53953954 0.54054054\n",
            " 0.54154154 0.54254254 0.54354354 0.54454454 0.54554555 0.54654655\n",
            " 0.54754755 0.54854855 0.54954955 0.55055055 0.55155155 0.55255255\n",
            " 0.55355355 0.55455455 0.55555556 0.55655656 0.55755756 0.55855856\n",
            " 0.55955956 0.56056056 0.56156156 0.56256256 0.56356356 0.56456456\n",
            " 0.56556557 0.56656657 0.56756757 0.56856857 0.56956957 0.57057057\n",
            " 0.57157157 0.57257257 0.57357357 0.57457457 0.57557558 0.57657658\n",
            " 0.57757758 0.57857858 0.57957958 0.58058058 0.58158158 0.58258258\n",
            " 0.58358358 0.58458458 0.58558559 0.58658659 0.58758759 0.58858859\n",
            " 0.58958959 0.59059059 0.59159159 0.59259259 0.59359359 0.59459459\n",
            " 0.5955956  0.5965966  0.5975976  0.5985986  0.5995996  0.6006006\n",
            " 0.6016016  0.6026026  0.6036036  0.6046046  0.60560561 0.60660661\n",
            " 0.60760761 0.60860861 0.60960961 0.61061061 0.61161161 0.61261261\n",
            " 0.61361361 0.61461461 0.61561562 0.61661662 0.61761762 0.61861862\n",
            " 0.61961962 0.62062062 0.62162162 0.62262262 0.62362362 0.62462462\n",
            " 0.62562563 0.62662663 0.62762763 0.62862863 0.62962963 0.63063063\n",
            " 0.63163163 0.63263263 0.63363363 0.63463463 0.63563564 0.63663664\n",
            " 0.63763764 0.63863864 0.63963964 0.64064064 0.64164164 0.64264264\n",
            " 0.64364364 0.64464464 0.64564565 0.64664665 0.64764765 0.64864865\n",
            " 0.64964965 0.65065065 0.65165165 0.65265265 0.65365365 0.65465465\n",
            " 0.65565566 0.65665666 0.65765766 0.65865866 0.65965966 0.66066066\n",
            " 0.66166166 0.66266266 0.66366366 0.66466466 0.66566567 0.66666667\n",
            " 0.66766767 0.66866867 0.66966967 0.67067067 0.67167167 0.67267267\n",
            " 0.67367367 0.67467467 0.67567568 0.67667668 0.67767768 0.67867868\n",
            " 0.67967968 0.68068068 0.68168168 0.68268268 0.68368368 0.68468468\n",
            " 0.68568569 0.68668669 0.68768769 0.68868869 0.68968969 0.69069069\n",
            " 0.69169169 0.69269269 0.69369369 0.69469469 0.6956957  0.6966967\n",
            " 0.6976977  0.6986987  0.6996997  0.7007007  0.7017017  0.7027027\n",
            " 0.7037037  0.7047047  0.70570571 0.70670671 0.70770771 0.70870871\n",
            " 0.70970971 0.71071071 0.71171171 0.71271271 0.71371371 0.71471471\n",
            " 0.71571572 0.71671672 0.71771772 0.71871872 0.71971972 0.72072072\n",
            " 0.72172172 0.72272272 0.72372372 0.72472472 0.72572573 0.72672673\n",
            " 0.72772773 0.72872873 0.72972973 0.73073073 0.73173173 0.73273273\n",
            " 0.73373373 0.73473473 0.73573574 0.73673674 0.73773774 0.73873874\n",
            " 0.73973974 0.74074074 0.74174174 0.74274274 0.74374374 0.74474474\n",
            " 0.74574575 0.74674675 0.74774775 0.74874875 0.74974975 0.75075075\n",
            " 0.75175175 0.75275275 0.75375375 0.75475475 0.75575576 0.75675676\n",
            " 0.75775776 0.75875876 0.75975976 0.76076076 0.76176176 0.76276276\n",
            " 0.76376376 0.76476476 0.76576577 0.76676677 0.76776777 0.76876877\n",
            " 0.76976977 0.77077077 0.77177177 0.77277277 0.77377377 0.77477477\n",
            " 0.77577578 0.77677678 0.77777778 0.77877878 0.77977978 0.78078078\n",
            " 0.78178178 0.78278278 0.78378378 0.78478478 0.78578579 0.78678679\n",
            " 0.78778779 0.78878879 0.78978979 0.79079079 0.79179179 0.79279279\n",
            " 0.79379379 0.79479479 0.7957958  0.7967968  0.7977978  0.7987988\n",
            " 0.7997998  0.8008008  0.8018018  0.8028028  0.8038038  0.8048048\n",
            " 0.80580581 0.80680681 0.80780781 0.80880881 0.80980981 0.81081081\n",
            " 0.81181181 0.81281281 0.81381381 0.81481481 0.81581582 0.81681682\n",
            " 0.81781782 0.81881882 0.81981982 0.82082082 0.82182182 0.82282282\n",
            " 0.82382382 0.82482482 0.82582583 0.82682683 0.82782783 0.82882883\n",
            " 0.82982983 0.83083083 0.83183183 0.83283283 0.83383383 0.83483483\n",
            " 0.83583584 0.83683684 0.83783784 0.83883884 0.83983984 0.84084084\n",
            " 0.84184184 0.84284284 0.84384384 0.84484484 0.84584585 0.84684685\n",
            " 0.84784785 0.84884885 0.84984985 0.85085085 0.85185185 0.85285285\n",
            " 0.85385385 0.85485485 0.85585586 0.85685686 0.85785786 0.85885886\n",
            " 0.85985986 0.86086086 0.86186186 0.86286286 0.86386386 0.86486486\n",
            " 0.86586587 0.86686687 0.86786787 0.86886887 0.86986987 0.87087087\n",
            " 0.87187187 0.87287287 0.87387387 0.87487487 0.87587588 0.87687688\n",
            " 0.87787788 0.87887888 0.87987988 0.88088088 0.88188188 0.88288288\n",
            " 0.88388388 0.88488488 0.88588589 0.88688689 0.88788789 0.88888889\n",
            " 0.88988989 0.89089089 0.89189189 0.89289289 0.89389389 0.89489489\n",
            " 0.8958959  0.8968969  0.8978979  0.8988989  0.8998999  0.9009009\n",
            " 0.9019019  0.9029029  0.9039039  0.9049049  0.90590591 0.90690691\n",
            " 0.90790791 0.90890891 0.90990991 0.91091091 0.91191191 0.91291291\n",
            " 0.91391391 0.91491491 0.91591592 0.91691692]\n"
          ]
        }
      ]
    },
    {
      "cell_type": "markdown",
      "source": [
        "Exercicio 3\n",
        "\n",
        "Faça um programa que peça um numero ao usuário e identifique se o numero é par ou ímpar."
      ],
      "metadata": {
        "id": "rPopC6wC7j4r"
      }
    },
    {
      "cell_type": "code",
      "source": [
        "#Pede um número ao usuário.\n",
        "numero = int(input(\"Digite um número: \"))\n",
        "\n",
        "#Verifica se o número é par ou ímpar.\n",
        "if numero % 2 == 0:\n",
        "    print(\"O número é par.\")\n",
        "else:\n",
        "    print(\"O número é ímpar.\")"
      ],
      "metadata": {
        "colab": {
          "base_uri": "https://localhost:8080/"
        },
        "id": "ljirs6Sr7l3t",
        "outputId": "9995e972-aac4-4122-d9e8-ae81b946f495"
      },
      "execution_count": 10,
      "outputs": [
        {
          "output_type": "stream",
          "name": "stdout",
          "text": [
            "Digite um número: 0\n",
            "O número é par.\n"
          ]
        }
      ]
    },
    {
      "cell_type": "markdown",
      "source": [
        "Exercicio 4\n",
        "\n"
      ],
      "metadata": {
        "id": "QN0riBW67qWe"
      }
    },
    {
      "cell_type": "code",
      "source": [
        "#Inicializa a soma com 0\n",
        "soma = 0\n",
        "\n",
        "#Itera de 1 a 100\n",
        "for n in range(1, 100):\n",
        "    # Adiciona 1/n à soma\n",
        "    soma += 1 / n\n",
        "\n",
        "#Imprime a soma\n",
        "print(soma)"
      ],
      "metadata": {
        "colab": {
          "base_uri": "https://localhost:8080/"
        },
        "id": "LBd4Y6UJBBYQ",
        "outputId": "613e0346-331c-4bc6-da29-afb2b30e3fd9"
      },
      "execution_count": 15,
      "outputs": [
        {
          "output_type": "stream",
          "name": "stdout",
          "text": [
            "5.177377517639621\n"
          ]
        }
      ]
    },
    {
      "cell_type": "markdown",
      "source": [
        "Exercicio 5\n",
        "\n",
        "Faça um programa que calcule as primeiras 5 linhas das 3 principais séries de linhas do Hidrogenio (m=1,2,3), Lyman, Balmer e Paschen de acordo com a fórmula de Rydberg: 1/lambda = R (1/m^2 - 1/n^2) onde R = 1,098 x 10^-2 nm^-1 e m, n são numeros inteiros positivos. Para um dado valor de m, os comprimentos de onda lambda de uma série são dados para valores n de modo que n>m"
      ],
      "metadata": {
        "id": "TdLoACYgB6LM"
      }
    },
    {
      "cell_type": "code",
      "source": [
        "#Constante de Rydberg em nm^-1\n",
        "R = 1.098 * 10**(-2)\n",
        "\n",
        "#Cabeçalho da tabela\n",
        "print(\"Série\\t\\tn\\t\\tλ (nm)\")\n",
        "\n",
        "#Loop sobre as três séries (m = 1, 2, 3)\n",
        "for m in range(1, 4):\n",
        "    #Loop sobre os primeiros 5 valores de n (n > m)\n",
        "    for n in range(m + 1, m + 6):\n",
        "        #Calcula o comprimento de onda\n",
        "        lambda_nm = 1 / (R * (1/m**2 - 1/n**2))\n",
        "\n",
        "        #Imprime os resultados\n",
        "        print(f\"{m:d}\\t\\t{n:d}\\t\\t{lambda_nm:.2f}\")\n"
      ],
      "metadata": {
        "colab": {
          "base_uri": "https://localhost:8080/"
        },
        "id": "NS34SMPIB-jK",
        "outputId": "b38cd70b-d2b7-48f1-a907-99cd253dffeb"
      },
      "execution_count": 17,
      "outputs": [
        {
          "output_type": "stream",
          "name": "stdout",
          "text": [
            "Série\t\tn\t\tλ (nm)\n",
            "1\t\t2\t\t121.43\n",
            "1\t\t3\t\t102.46\n",
            "1\t\t4\t\t97.15\n",
            "1\t\t5\t\t94.87\n",
            "1\t\t6\t\t93.68\n",
            "2\t\t3\t\t655.74\n",
            "2\t\t4\t\t485.73\n",
            "2\t\t5\t\t433.69\n",
            "2\t\t6\t\t409.84\n",
            "2\t\t7\t\t396.68\n",
            "3\t\t4\t\t1873.54\n",
            "3\t\t5\t\t1280.74\n",
            "3\t\t6\t\t1092.90\n",
            "3\t\t7\t\t1004.10\n",
            "3\t\t8\t\t953.80\n"
          ]
        }
      ]
    },
    {
      "cell_type": "markdown",
      "source": [
        "Exercicio 6 Repetido?\n",
        "\n",
        "Escreva um programa que peça um número ao usuário e imprima se ele é par ou ímpar."
      ],
      "metadata": {
        "id": "XqZectnxCRV0"
      }
    },
    {
      "cell_type": "code",
      "source": [
        "#Pede um número ao usuário.\n",
        "numero = int(input(\"Digite um número: \"))\n",
        "\n",
        "#Verifica se o número é par ou ímpar.\n",
        "if numero % 2 == 0:\n",
        "    print(\"O número é par.\")\n",
        "else:\n",
        "    print(\"O número é ímpar.\")"
      ],
      "metadata": {
        "colab": {
          "base_uri": "https://localhost:8080/"
        },
        "id": "Wt7jv0jOCUr7",
        "outputId": "35585d92-69dd-49fa-94a4-083b4ffb4fe2"
      },
      "execution_count": 19,
      "outputs": [
        {
          "output_type": "stream",
          "name": "stdout",
          "text": [
            "Digite um número: 3\n",
            "O número é ímpar.\n"
          ]
        }
      ]
    },
    {
      "cell_type": "markdown",
      "source": [
        "Exercicio 7\n",
        "\n",
        "Escreva um programa que peça ao usuário uma nota (0-100) e imprima se for \"Aprovado\" (>=60) ou \"Reprovado\" (<60)."
      ],
      "metadata": {
        "id": "es2I64VCCcnl"
      }
    },
    {
      "cell_type": "code",
      "source": [
        "#Pede uma nota ao usuário.\n",
        "nota = float(input(\"Digite sua nota (0-100): \"))\n",
        "\n",
        "#Verifica se o usuário foi aprovado ou reprovado.\n",
        "if nota >= 60:\n",
        "    print(\"Aprovado\")\n",
        "else:\n",
        "    print(\"Reprovado\")\n"
      ],
      "metadata": {
        "colab": {
          "base_uri": "https://localhost:8080/"
        },
        "id": "4L98Tf9LChOt",
        "outputId": "c56f8dc1-44bb-4524-d5da-06cc6faec9dc"
      },
      "execution_count": 20,
      "outputs": [
        {
          "output_type": "stream",
          "name": "stdout",
          "text": [
            "Digite sua nota (0-100): 22\n",
            "Reprovado\n"
          ]
        }
      ]
    },
    {
      "cell_type": "markdown",
      "source": [
        "Exercicio 8\n",
        "\n",
        "Escreva um programa que gere um número aleatório entre 1 e 100. Peça ao usuário para adivinhar o número. Continue avisando o usuário até que ele adivinhe corretamente. Forneça feedback se a estimativa for muito alta ou muito baixa."
      ],
      "metadata": {
        "id": "JkhBMcY8Cu3V"
      }
    },
    {
      "cell_type": "code",
      "source": [
        "import random\n",
        "\n",
        "#Gera um número aleatório entre 1 e 100\n",
        "numero_secreto = random.randint(1, 100)\n",
        "\n",
        "#Continua pedindo ao usuário para adivinhar o número até que ele acerte\n",
        "while True:\n",
        "    #Pede ao usuário para adivinhar o número\n",
        "    chute = int(input(\"Adivinhe o número (1-100): \"))\n",
        "\n",
        "    #Verifica se o chute é correto\n",
        "    if chute == numero_secreto:\n",
        "        print(\"Parabéns, você acertou!\")\n",
        "        break\n",
        "    #Fornece feedback se o chute for muito alto ou muito baixo\n",
        "    elif chute > numero_secreto:\n",
        "        print(\"Seu chute é muito alto.\")\n",
        "    else:\n",
        "        print(\"Seu chute é muito baixo.\")"
      ],
      "metadata": {
        "colab": {
          "base_uri": "https://localhost:8080/"
        },
        "id": "MeTncbflCwHu",
        "outputId": "b2e5f925-955b-48a1-aa65-99760f135c05"
      },
      "execution_count": 21,
      "outputs": [
        {
          "output_type": "stream",
          "name": "stdout",
          "text": [
            "Adivinhe o número (1-100): 20\n",
            "Seu chute é muito alto.\n",
            "Adivinhe o número (1-100): 5\n",
            "Seu chute é muito baixo.\n",
            "Adivinhe o número (1-100): 8\n",
            "Seu chute é muito baixo.\n",
            "Adivinhe o número (1-100): 12\n",
            "Seu chute é muito baixo.\n",
            "Adivinhe o número (1-100): 15\n",
            "Seu chute é muito baixo.\n",
            "Adivinhe o número (1-100): 16\n",
            "Seu chute é muito baixo.\n",
            "Adivinhe o número (1-100): 17\n",
            "Parabéns, você acertou!\n"
          ]
        }
      ]
    },
    {
      "cell_type": "markdown",
      "source": [
        "Exercicio 9\n",
        "\n",
        "Escreva um programa que peça ao usuário um número inteiro positivo e calcule seu fatorial usando um loop while."
      ],
      "metadata": {
        "id": "uItiM5HLC_gk"
      }
    },
    {
      "cell_type": "code",
      "source": [
        "#Pede ao usuário um número inteiro positivo\n",
        "numero = int(input(\"Digite um número inteiro positivo: \"))\n",
        "numero_inicial = numero  #Armazena o valor inicial de numero\n",
        "\n",
        "\n",
        "#Verifica se o número é válido\n",
        "if numero < 0:\n",
        "    print(\"O número deve ser positivo.\")\n",
        "else:\n",
        "    #Inicializa o fatorial como 1\n",
        "    fatorial = 1\n",
        "\n",
        "    #Calcula o fatorial usando um loop while\n",
        "    while numero > 0:\n",
        "        fatorial *= numero\n",
        "        if numero > 0:\n",
        "          numero -= 1\n",
        "    #Imprime o fatorial\n",
        "    print(f\"O fatorial de {numero_inicial} é {fatorial}\")"
      ],
      "metadata": {
        "colab": {
          "base_uri": "https://localhost:8080/"
        },
        "id": "vHSclXrNDBX2",
        "outputId": "c9b3481e-8ab9-468c-f458-87b23e2bca08"
      },
      "execution_count": 41,
      "outputs": [
        {
          "output_type": "stream",
          "name": "stdout",
          "text": [
            "Digite um número inteiro positivo: 7\n",
            "O fatorial de 7 é 5040\n"
          ]
        }
      ]
    },
    {
      "cell_type": "markdown",
      "source": [
        "Exercicio 10\n",
        "\n",
        "Escreva um programa que peça uma string ao usuário e verifique se é um palíndromo.\n"
      ],
      "metadata": {
        "id": "wOQ0SPwEE3Wd"
      }
    },
    {
      "cell_type": "code",
      "source": [
        "#Pede ao usuário uma string\n",
        "string = input(\"Digite uma string: \")\n",
        "\n",
        "#Remove espaços em branco e converte para minúsculas\n",
        "string = string.replace(\" \", \"\").lower()\n",
        "\n",
        "#Verifica se a string é um palíndromo\n",
        "if string == string[::-1]:\n",
        "    print(f\"A string '{string}' é um palíndromo.\")\n",
        "else:\n",
        "    print(f\"A string '{string}' não é um palíndromo.\")\n"
      ],
      "metadata": {
        "colab": {
          "base_uri": "https://localhost:8080/"
        },
        "id": "FYVU2zJtE5rL",
        "outputId": "c06093c0-bbef-45af-ed9e-046f1718517f"
      },
      "execution_count": 43,
      "outputs": [
        {
          "output_type": "stream",
          "name": "stdout",
          "text": [
            "Digite uma string: Radara\n",
            "A string 'radara' não é um palíndromo.\n"
          ]
        }
      ]
    },
    {
      "cell_type": "markdown",
      "source": [
        "Exercicio 11\n",
        "\n",
        "Escreva um programa que peça um número ao usuário e verifique se é um número primo.\n"
      ],
      "metadata": {
        "id": "JnxcxHNhFDSG"
      }
    },
    {
      "cell_type": "code",
      "source": [
        "#Pede ao usuário um número\n",
        "numero = int(input(\"Digite um número: \"))\n",
        "\n",
        "#Verifica se o número é primo\n",
        "primo = True\n",
        "for i in range(2, int(numero ** 0.5) + 1):\n",
        "    if numero % i == 0:\n",
        "        primo = False\n",
        "        break\n",
        "\n",
        "#Imprime o resultado\n",
        "if primo:\n",
        "    print(f\"{numero} é um número primo.\")\n",
        "else:\n",
        "    print(f\"{numero} não é um número primo.\")\n"
      ],
      "metadata": {
        "colab": {
          "base_uri": "https://localhost:8080/"
        },
        "id": "_2UN4_IQFFS6",
        "outputId": "f1122c45-182f-4fe6-fddb-3a00222e07cf"
      },
      "execution_count": 45,
      "outputs": [
        {
          "output_type": "stream",
          "name": "stdout",
          "text": [
            "Digite um número: 6\n",
            "6 não é um número primo.\n"
          ]
        }
      ]
    }
  ]
}