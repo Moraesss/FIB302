{
  "nbformat": 4,
  "nbformat_minor": 0,
  "metadata": {
    "colab": {
      "provenance": [],
      "authorship_tag": "ABX9TyOGgDd60SJwVl7hqJH/1L+J",
      "include_colab_link": true
    },
    "kernelspec": {
      "name": "python3",
      "display_name": "Python 3"
    },
    "language_info": {
      "name": "python"
    }
  },
  "cells": [
    {
      "cell_type": "markdown",
      "metadata": {
        "id": "view-in-github",
        "colab_type": "text"
      },
      "source": [
        "<a href=\"https://colab.research.google.com/github/Moraesss/FIB302/blob/main/Lista_2_de_Python.ipynb\" target=\"_parent\"><img src=\"https://colab.research.google.com/assets/colab-badge.svg\" alt=\"Open In Colab\"/></a>"
      ]
    },
    {
      "cell_type": "markdown",
      "source": [
        "Lista 2 de Python"
      ],
      "metadata": {
        "id": "27gSfx4nsuPd"
      }
    },
    {
      "cell_type": "markdown",
      "source": [
        "Exercicio 0"
      ],
      "metadata": {
        "id": "eZ3s-Kiuswhv"
      }
    },
    {
      "cell_type": "markdown",
      "source": [
        "Fazer um programa para calcular a media geometrica de um conjunto de n valores."
      ],
      "metadata": {
        "id": "DL4MsHY-tQxj"
      }
    },
    {
      "cell_type": "code",
      "execution_count": 20,
      "metadata": {
        "colab": {
          "base_uri": "https://localhost:8080/"
        },
        "id": "oJkAEG6Vsqv5",
        "outputId": "2166a05c-d1f5-42d7-e45f-fd30fe1f8bac"
      },
      "outputs": [
        {
          "output_type": "stream",
          "name": "stdout",
          "text": [
            "Insira a lista de valores separados por vírgulas: 1,2,3,261\n",
            "A média geométrica dos valores [1, 2, 3, 261] é 6.29\n"
          ]
        }
      ],
      "source": [
        "def media_geometrica(valores):\n",
        "#Calcula a média geométrica de um conjunto de valores.\n",
        "\n",
        "#Verifica se a lista de valores está vazia.\n",
        "  if not valores:\n",
        "    return 0\n",
        "\n",
        "#Calcula o produto de todos os valores.\n",
        "  produto = 1\n",
        "  for valor in valores:\n",
        "    produto *= valor\n",
        "\n",
        "#Calcula a raiz n-ésima do produto.\n",
        "  media_geometrica = produto ** (1 / len(valores))\n",
        "  return media_geometrica\n",
        "\n",
        "#Pede ao usuário que insira a lista de valores.\n",
        "valores_str = input(\"Insira a lista de valores separados por vírgulas: \")\n",
        "\n",
        "#Divide a entrada do usuário em uma lista de valores.\n",
        "valores = valores_str.split(\",\")\n",
        "\n",
        "#Converte os valores da lista para números inteiros.\n",
        "valores = [int(valor) for valor in valores]\n",
        "media_geometrica_calculada = media_geometrica(valores)\n",
        "print(f\"A média geométrica dos valores {valores} é {media_geometrica_calculada:.2f}\")\n"
      ]
    },
    {
      "cell_type": "markdown",
      "source": [
        "Exercicio 1"
      ],
      "metadata": {
        "id": "CWbgxqwDvU8V"
      }
    },
    {
      "cell_type": "markdown",
      "source": [
        "Defina uma lista contendo cinco inteiros. Imprima a lista inteira e o terceiro elemento."
      ],
      "metadata": {
        "id": "jkCCgYcyvVyp"
      }
    },
    {
      "cell_type": "code",
      "source": [
        "#Define uma lista contendo cinco inteiros.\n",
        "lista = [1, 2, 3, 4, 5]\n",
        "\n",
        "#Imprime a lista inteira.\n",
        "print(\"Lista inteira:\", lista)\n",
        "\n",
        "#Imprime o terceiro elemento.\n",
        "print(\"Terceiro elemento:\", lista[2])"
      ],
      "metadata": {
        "colab": {
          "base_uri": "https://localhost:8080/"
        },
        "id": "vLtD8k1AvX4j",
        "outputId": "6a771dca-571c-4049-c701-33b776a82a23"
      },
      "execution_count": 21,
      "outputs": [
        {
          "output_type": "stream",
          "name": "stdout",
          "text": [
            "Lista inteira: [1, 2, 3, 4, 5]\n",
            "Terceiro elemento: 3\n"
          ]
        }
      ]
    },
    {
      "cell_type": "markdown",
      "source": [
        "Exercicio 2"
      ],
      "metadata": {
        "id": "Ugt6_QHXvfbU"
      }
    },
    {
      "cell_type": "markdown",
      "source": [
        "Crie uma lista vazia e anexe três inteiros a ela. Em seguida, estenda a lista com outra lista contendo mais dois inteiros. Imprima a lista final."
      ],
      "metadata": {
        "id": "gwhwQTASvgme"
      }
    },
    {
      "cell_type": "code",
      "source": [
        "#Cria uma lista vazia.\n",
        "lista = []\n",
        "\n",
        "#Anexa três inteiros à lista.\n",
        "lista.append(2)\n",
        "lista.append(4)\n",
        "lista.append(6)\n",
        "\n",
        "#Estende a lista com outra lista contendo mais dois inteiros.\n",
        "lista.extend([4, 5])\n",
        "\n",
        "#Imprime a lista final.\n",
        "print(lista)"
      ],
      "metadata": {
        "colab": {
          "base_uri": "https://localhost:8080/"
        },
        "id": "CzosyBAWviFX",
        "outputId": "6aa7906f-1b7d-400b-ecbf-725cb31030c2"
      },
      "execution_count": 23,
      "outputs": [
        {
          "output_type": "stream",
          "name": "stdout",
          "text": [
            "[2, 4, 6, 4, 5]\n"
          ]
        }
      ]
    },
    {
      "cell_type": "markdown",
      "source": [
        "Exercicio 3"
      ],
      "metadata": {
        "id": "5_qoNQvYvqoB"
      }
    },
    {
      "cell_type": "markdown",
      "source": [
        "Defina uma lista de 10 números. Imprima os primeiros cinco números e os últimos cinco números usando fatiamento."
      ],
      "metadata": {
        "id": "R4qvu7aFvrkQ"
      }
    },
    {
      "cell_type": "code",
      "source": [
        "#Define uma lista de 10 números.\n",
        "lista = [1, 2, 3, 4, 5, 6, 7, 8, 9, 10]\n",
        "\n",
        "#Imprime os primeiros cinco números usando fatiamento.\n",
        "print(\"Primeiros cinco números:\", lista[:5])\n",
        "\n",
        "#Imprime os últimos cinco números usando fatiamento.\n",
        "print(\"Últimos cinco números:\", lista[-5:])"
      ],
      "metadata": {
        "colab": {
          "base_uri": "https://localhost:8080/"
        },
        "id": "bZBHhcSjvtS5",
        "outputId": "71f6768a-dd48-425c-da02-f8895990a566"
      },
      "execution_count": 24,
      "outputs": [
        {
          "output_type": "stream",
          "name": "stdout",
          "text": [
            "Primeiros cinco números: [1, 2, 3, 4, 5]\n",
            "Últimos cinco números: [6, 7, 8, 9, 10]\n"
          ]
        }
      ]
    },
    {
      "cell_type": "markdown",
      "source": [
        "Exercicio 4"
      ],
      "metadata": {
        "id": "ZZUUB589v1_T"
      }
    },
    {
      "cell_type": "markdown",
      "source": [
        "Crie duas listas de igual comprimento contendo inteiros. Adicione os elementos correspondentes das duas listas e imprima o resultado (Obs: sem usar FOR)."
      ],
      "metadata": {
        "id": "vx61Tueuv4uJ"
      }
    },
    {
      "cell_type": "code",
      "source": [
        "#Cria duas listas de igual comprimento contendo inteiros.\n",
        "lista1 = [1, 2, 3, 4, 5]\n",
        "lista2 = [6, 7, 8, 9, 10]\n",
        "\n",
        "#Adiciona os elementos correspondentes das duas listas usando compreensão de lista.\n",
        "resultado = [x + y for x, y in zip(lista1, lista2)]\n",
        "\n",
        "#Imprime o resultado.\n",
        "print(resultado)"
      ],
      "metadata": {
        "colab": {
          "base_uri": "https://localhost:8080/"
        },
        "id": "PQl_QZepv5Rs",
        "outputId": "e248801a-5fe7-40b1-e29d-e5d591d8b4d1"
      },
      "execution_count": 25,
      "outputs": [
        {
          "output_type": "stream",
          "name": "stdout",
          "text": [
            "[7, 9, 11, 13, 15]\n"
          ]
        }
      ]
    },
    {
      "cell_type": "markdown",
      "source": [
        "Exercicio 5"
      ],
      "metadata": {
        "id": "7g9a14YPwGAl"
      }
    },
    {
      "cell_type": "markdown",
      "source": [
        " Defina duas listas e concatene-as sem usar o operador `+`. Imprima a lista concatenada."
      ],
      "metadata": {
        "id": "48DxgJTTwG1B"
      }
    },
    {
      "cell_type": "code",
      "source": [
        "#Define duas listas.\n",
        "lista1 = [1, 2, 3]\n",
        "lista2 = [4, 5, 6]\n",
        "\n",
        "#Concatena as listas usando o método `extend()`.\n",
        "lista1.extend(lista2)\n",
        "\n",
        "#Imprime a lista concatenada.\n",
        "print(lista1)"
      ],
      "metadata": {
        "colab": {
          "base_uri": "https://localhost:8080/"
        },
        "id": "ujT3XhHXwHjo",
        "outputId": "6dba7a46-b8bf-4970-e20c-e29fe3e9ace0"
      },
      "execution_count": 27,
      "outputs": [
        {
          "output_type": "stream",
          "name": "stdout",
          "text": [
            "[1, 2, 3, 4, 5, 6]\n"
          ]
        }
      ]
    },
    {
      "cell_type": "markdown",
      "source": [
        "Exercicio 6"
      ],
      "metadata": {
        "id": "v67S-9LOwOgI"
      }
    },
    {
      "cell_type": "markdown",
      "source": [
        "Crie um array de inteiros. Imprima o array."
      ],
      "metadata": {
        "id": "-qv8mEa6wP4L"
      }
    },
    {
      "cell_type": "code",
      "source": [
        "#Cria um array de inteiros.\n",
        "import numpy\n",
        "array = numpy.array([1, 2, 3, 4, 5])\n",
        "\n",
        "#Imprime o array.\n",
        "print(array)"
      ],
      "metadata": {
        "colab": {
          "base_uri": "https://localhost:8080/"
        },
        "id": "KJZn_houwQKX",
        "outputId": "4129cc15-c057-49f3-8637-6c51bd99fac3"
      },
      "execution_count": 29,
      "outputs": [
        {
          "output_type": "stream",
          "name": "stdout",
          "text": [
            "[1 2 3 4 5]\n"
          ]
        }
      ]
    },
    {
      "cell_type": "markdown",
      "source": [
        "Exercicio 7"
      ],
      "metadata": {
        "id": "g9aCozbuwbdy"
      }
    },
    {
      "cell_type": "markdown",
      "source": [
        "Crie um array de números de ponto flutuante. Acesse o terceiro elemento e modifique-o. Imprima o array modificado."
      ],
      "metadata": {
        "id": "olQqLvpkwciY"
      }
    },
    {
      "cell_type": "code",
      "source": [
        "#Cria um array de números de ponto flutuante.\n",
        "array = numpy.array([1.1, 2.2, 3.3, 4.4, 5.5])\n",
        "\n",
        "#Acessa o terceiro elemento.\n",
        "array[2] = 3.14\n",
        "\n",
        "#Imprime o array modificado.\n",
        "print(array)\n"
      ],
      "metadata": {
        "colab": {
          "base_uri": "https://localhost:8080/"
        },
        "id": "ZwjIU4jYwc6s",
        "outputId": "07e72ec5-03b9-47b7-dd12-65295646012a"
      },
      "execution_count": 30,
      "outputs": [
        {
          "output_type": "stream",
          "name": "stdout",
          "text": [
            "[1.1  2.2  3.14 4.4  5.5 ]\n"
          ]
        }
      ]
    },
    {
      "cell_type": "markdown",
      "source": [
        "Exercicio 8"
      ],
      "metadata": {
        "id": "rUKYHmG7wmJj"
      }
    },
    {
      "cell_type": "markdown",
      "source": [
        "Defina dois arrays de inteiros usando a biblioteca numpy. Adicione os elementos correspondentes e imprima o resultado."
      ],
      "metadata": {
        "id": "9IiQYUXCwnEv"
      }
    },
    {
      "cell_type": "code",
      "source": [
        "#Define dois arrays de inteiros.\n",
        "array1 = numpy.array([1, 2, 3, 4, 5])\n",
        "array2 = numpy.array([6, 7, 8, 9, 10])\n",
        "\n",
        "#Adiciona os elementos correspondentes.\n",
        "result = array1 + array2\n",
        "\n",
        "#Imprime o resultado.\n",
        "print(result)"
      ],
      "metadata": {
        "colab": {
          "base_uri": "https://localhost:8080/"
        },
        "id": "l5d5Rj7nwnci",
        "outputId": "99b8099f-5f6f-4f56-a258-6dec6ec2f123"
      },
      "execution_count": 31,
      "outputs": [
        {
          "output_type": "stream",
          "name": "stdout",
          "text": [
            "[ 7  9 11 13 15]\n"
          ]
        }
      ]
    },
    {
      "cell_type": "markdown",
      "source": [
        "Exercicio 9"
      ],
      "metadata": {
        "id": "vKTB2VhZwtAt"
      }
    },
    {
      "cell_type": "markdown",
      "source": [
        "Defina arrays para velocidade inicial, ângulo e tempo. Calcule e imprima as posições horizontal e vertical de um projétil usando as equações de movimento pertinentes. Suponha que v_0 = 20m/s, theta = 45 graus e g = 9,8m/s2."
      ],
      "metadata": {
        "id": "bj6la2T6wvtU"
      }
    },
    {
      "cell_type": "code",
      "source": [
        "#Define os arrays para velocidade inicial, ângulo e tempo.\n",
        "v0 = numpy.array([20, 45])  #v0 = [velocidade inicial, ângulo]\n",
        "t = numpy.linspace(0, 10, 100)  #Tempo\n",
        "\n",
        "#Calcula as posições horizontal e vertical usando as equações de movimento.\n",
        "x = v0[0] * t * numpy.cos(numpy.radians(v0[1]))\n",
        "y = v0[0] * t * numpy.sin(numpy.radians(v0[1])) - 0.5 * 9.81 * t**2\n",
        "\n",
        "#Imprime as posições.\n",
        "print(\"Posição horizontal:\", x[:30])\n",
        "print(\"Posição vertical:\", y[:30])\n"
      ],
      "metadata": {
        "colab": {
          "base_uri": "https://localhost:8080/"
        },
        "id": "s3EE1HRnwt7L",
        "outputId": "78522c95-5809-4b11-b42a-d7eda2ba9ad8"
      },
      "execution_count": 38,
      "outputs": [
        {
          "output_type": "stream",
          "name": "stdout",
          "text": [
            "Posição horizontal: [ 0.          1.42849855  2.8569971   4.28549564  5.71399419  7.14249274\n",
            "  8.57099129  9.99948983 11.42798838 12.85648693 14.28498548 15.71348403\n",
            " 17.14198257 18.57048112 19.99897967 21.42747822 22.85597677 24.28447531\n",
            " 25.71297386 27.14147241 28.56997096 29.9984695  31.42696805 32.8554666\n",
            " 34.28396515 35.7124637  37.14096224 38.56946079 39.99795934 41.42645789]\n",
            "Posição vertical: [ 0.          1.37845263  2.65681344  3.83508242  4.91325957  5.8913449\n",
            "  6.76933839  7.54724006  8.22504991  8.80276792  9.28039411  9.65792847\n",
            "  9.935371   10.11272171 10.18998059 10.16714764 10.04422286  9.82120626\n",
            "  9.49809783  9.07489757  8.55160548  7.92822157  7.20474583  6.38117826\n",
            "  5.45751887  4.43376764  3.30992459  2.08598972  0.76196301 -0.66215552]\n"
          ]
        }
      ]
    },
    {
      "cell_type": "markdown",
      "source": [
        "Exercicio 10"
      ],
      "metadata": {
        "id": "WaJ6ue39xlxb"
      }
    },
    {
      "cell_type": "markdown",
      "source": [
        "Defina arrays para tempo e deslocamento. Calcule e represente graficamente o deslocamento de um objeto em movimento harmônico simples. Suponha que a amplitude seja A = 1m e  a velocidade angular omega = 2*pi rad/s."
      ],
      "metadata": {
        "id": "iXp-MSgJxmwR"
      }
    },
    {
      "cell_type": "code",
      "source": [
        "import matplotlib.pyplot\n",
        "\n",
        "#Define os arrays para tempo e deslocamento.\n",
        "t = numpy.linspace(0, 10, 100)  # Tempo\n",
        "A = 1  # Amplitude\n",
        "omega = 2 * numpy.pi  # Velocidade angular\n",
        "\n",
        "#Calcula o deslocamento usando a equação do movimento harmônico simples.\n",
        "displacement = A * numpy.cos(omega * t)\n",
        "\n",
        "#Representa graficamente o deslocamento em relação ao tempo.\n",
        "matplotlib.pyplot.plot(t, displacement)\n",
        "matplotlib.pyplot.xlabel(\"Tempo (s)\")\n",
        "matplotlib.pyplot.ylabel(\"Deslocamento (m)\")\n",
        "matplotlib.pyplot.title(\"Deslocamento de um Objeto em Movimento Harmônico Simples\")\n",
        "matplotlib.pyplot.show()"
      ],
      "metadata": {
        "colab": {
          "base_uri": "https://localhost:8080/",
          "height": 472
        },
        "id": "6X4rwDQcxnHY",
        "outputId": "bc0eadea-60b0-409f-a73d-e18a20a9e5cd"
      },
      "execution_count": 42,
      "outputs": [
        {
          "output_type": "display_data",
          "data": {
            "text/plain": [
              "<Figure size 640x480 with 1 Axes>"
            ],
            "image/png": "[encoded data removed]"
          },
          "metadata": {}
        }
      ]
    },
    {
      "cell_type": "markdown",
      "source": [
        "Exercicio 11"
      ],
      "metadata": {
        "id": "p_i3e7Jxx_Lx"
      }
    },
    {
      "cell_type": "markdown",
      "source": [
        "Defina um array de 10 inteiros. Imprima sua forma e remodele-a em uma matriz 2x5. Imprima a matriz remodelada."
      ],
      "metadata": {
        "id": "OGJ7VKCUyAB0"
      }
    },
    {
      "cell_type": "code",
      "source": [
        "#Define um array de 10 inteiros.\n",
        "array = numpy.array([1, 2, 3, 4, 5, 6, 7, 8, 9, 10])\n",
        "\n",
        "#Imprime a forma do array.\n",
        "print(\"Forma do array:\", array.shape)\n",
        "\n",
        "#Remodela o array em uma matriz 2x5.\n",
        "reshaped_array = array.reshape(2, 5)\n",
        "\n",
        "#Imprime a matriz remodelada.\n",
        "print(\"Matriz remodelada:\\n\", reshaped_array)\n"
      ],
      "metadata": {
        "colab": {
          "base_uri": "https://localhost:8080/"
        },
        "id": "RliTZdCpyAZY",
        "outputId": "c94ecdb2-e549-498a-c61d-28b69f510abe"
      },
      "execution_count": 40,
      "outputs": [
        {
          "output_type": "stream",
          "name": "stdout",
          "text": [
            "Forma do array: (10,)\n",
            "Matriz remodelada:\n",
            " [[ 1  2  3  4  5]\n",
            " [ 6  7  8  9 10]]\n"
          ]
        }
      ]
    },
    {
      "cell_type": "markdown",
      "source": [
        "Exercicio 12"
      ],
      "metadata": {
        "id": "ulc5SJXpyOKZ"
      }
    },
    {
      "cell_type": "markdown",
      "source": [
        "Defina um array de 10 inteiros. Escreva um programa que extraia e imprima apenas os números pares do array usando indexação booleana."
      ],
      "metadata": {
        "id": "OUwklbW8yPBp"
      }
    },
    {
      "cell_type": "code",
      "source": [
        "#Define um array de 10 inteiros.\n",
        "array = numpy.array([1, 2, 3, 4, 5, 6, 7, 8, 9, 10])\n",
        "\n",
        "#Cria uma máscara booleana para números pares.\n",
        "even_mask = array % 2 == 0\n",
        "\n",
        "#Extrai os números pares do array usando indexação booleana.\n",
        "even_numbers = array[even_mask]\n",
        "\n",
        "#Imprime os números pares.\n",
        "print(\"Números pares:\", even_numbers)\n"
      ],
      "metadata": {
        "colab": {
          "base_uri": "https://localhost:8080/"
        },
        "id": "l0VyYdpfyPSA",
        "outputId": "80fd71e2-9da2-4aea-f4c2-8db0450582f7"
      },
      "execution_count": 41,
      "outputs": [
        {
          "output_type": "stream",
          "name": "stdout",
          "text": [
            "Números pares: [ 2  4  6  8 10]\n"
          ]
        }
      ]
    },
    {
      "cell_type": "markdown",
      "source": [
        "Exercicio 13"
      ],
      "metadata": {
        "id": "PO_wuBXAyVbu"
      }
    },
    {
      "cell_type": "markdown",
      "source": [
        "Escreva um programa que calcule o produto escalar de dois arrays de inteiros usando numpy. Imprima o resultado."
      ],
      "metadata": {
        "id": "BbU2y7zLyWYX"
      }
    },
    {
      "cell_type": "code",
      "source": [
        "#Define dois arrays de inteiros.\n",
        "array1 = numpy.array([1, 2, 3])\n",
        "array2 = numpy.array([4, 5, 6])\n",
        "\n",
        "#Calcula o produto escalar dos dois arrays.\n",
        "dot_product = numpy.dot(array1, array2)\n",
        "\n",
        "#Imprime o resultado.\n",
        "print(\"Produto escalar:\", dot_product)\n"
      ],
      "metadata": {
        "colab": {
          "base_uri": "https://localhost:8080/"
        },
        "id": "PI8qNQCeyWxd",
        "outputId": "109d1b5d-f06d-4a55-8730-97a090b473a1"
      },
      "execution_count": 43,
      "outputs": [
        {
          "output_type": "stream",
          "name": "stdout",
          "text": [
            "Produto escalar: 32\n"
          ]
        }
      ]
    },
    {
      "cell_type": "markdown",
      "source": [
        "Exercicio 14"
      ],
      "metadata": {
        "id": "IjNogh2syiWb"
      }
    },
    {
      "cell_type": "markdown",
      "source": [
        "Crie uma matriz 2x3 usando numpy. Transponha a matriz e imprima a matriz transposta."
      ],
      "metadata": {
        "id": "LteX7Wg5yji2"
      }
    },
    {
      "cell_type": "code",
      "source": [
        "#Cria uma matriz 2x3 usando numpy.\n",
        "array = numpy.array([[1, 2, 3], [4, 5, 6]])\n",
        "\n",
        "#Transpõe a matriz.\n",
        "transposed_array = numpy.transpose(array)\n",
        "\n",
        "#Imprime a matriz transposta.\n",
        "print(\"Matriz transposta:\")\n",
        "print(transposed_array)\n"
      ],
      "metadata": {
        "colab": {
          "base_uri": "https://localhost:8080/"
        },
        "id": "70EJmekBykAN",
        "outputId": "abe65fae-57e4-4885-8ee5-4228b78ff5fd"
      },
      "execution_count": 45,
      "outputs": [
        {
          "output_type": "stream",
          "name": "stdout",
          "text": [
            "Matriz transposta:\n",
            "[[1 4]\n",
            " [2 5]\n",
            " [3 6]]\n"
          ]
        }
      ]
    }
  ]
}