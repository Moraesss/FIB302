{
  "nbformat": 4,
  "nbformat_minor": 0,
  "metadata": {
    "colab": {
      "provenance": [],
      "authorship_tag": "ABX9TyNEsrxkP1WWOOV2f0Iu8De1",
      "include_colab_link": true
    },
    "kernelspec": {
      "name": "python3",
      "display_name": "Python 3"
    },
    "language_info": {
      "name": "python"
    }
  },
  "cells": [
    {
      "cell_type": "markdown",
      "metadata": {
        "id": "view-in-github",
        "colab_type": "text"
      },
      "source": [
        "<a href=\"https://colab.research.google.com/github/Moraesss/FIB302/blob/main/Lista_1_de_Python.ipynb\" target=\"_parent\"><img src=\"https://colab.research.google.com/assets/colab-badge.svg\" alt=\"Open In Colab\"/></a>"
      ]
    },
    {
      "cell_type": "markdown",
      "source": [
        "Lista 1 de Python"
      ],
      "metadata": {
        "id": "SsH5MVkVRGpl"
      }
    },
    {
      "cell_type": "markdown",
      "source": [
        "Exercicio 1"
      ],
      "metadata": {
        "id": "CkMeP2WJSx4H"
      }
    },
    {
      "cell_type": "code",
      "source": [
        "import math\n",
        "r = 5.0\n",
        "theta = math.pi/4.0\n",
        "x = r*math.cos(theta)\n",
        "y = r*math.sin(theta)\n",
        "print (x,y)"
      ],
      "metadata": {
        "colab": {
          "base_uri": "https://localhost:8080/"
        },
        "id": "h6Y23KpQSzI9",
        "outputId": "cd44bd44-b88a-4aca-ded3-2aa55d4d800d"
      },
      "execution_count": null,
      "outputs": [
        {
          "output_type": "stream",
          "name": "stdout",
          "text": [
            "3.5355339059327378 3.5355339059327373\n"
          ]
        }
      ]
    },
    {
      "cell_type": "markdown",
      "source": [
        "Exercicio 2"
      ],
      "metadata": {
        "id": "Dkc571aZVTNM"
      }
    },
    {
      "cell_type": "code",
      "source": [
        "Velocidade_Inicial = 7.4\n",
        "Angulo_Inicial = math.radians(45)\n",
        "Altura_Maxima = (Velocidade_Inicial**2 * math.sin(Angulo_Inicial)**2)/(2 * 9.81)\n",
        "Alcance = (Velocidade_Inicial**2 * math.sin(2 * Angulo_Inicial))/9.81\n",
        "Tempo_Voo = 2 * Velocidade_Inicial * math.sin(Angulo_Inicial)/9.81\n",
        "\n",
        "print(\"Parâmetros do lançamento oblíquo:\")\n",
        "print(\"Velocidade inicial:\", Velocidade_Inicial, \"m/s\")\n",
        "print(\"Ângulo de lançamento:\", math.degrees(Angulo_Inicial), \"graus\")\n",
        "print(\"Altura máxima:\", Altura_Maxima, \"m\")\n",
        "print(\"Alcance:\", Alcance, \"m\")\n",
        "print(\"Tempo de voo:\", Tempo_Voo, \"s\")"
      ],
      "metadata": {
        "colab": {
          "base_uri": "https://localhost:8080/"
        },
        "id": "gouGSmTRVUbZ",
        "outputId": "e752100d-5aa8-471e-db65-80bf80ee858e"
      },
      "execution_count": null,
      "outputs": [
        {
          "output_type": "stream",
          "name": "stdout",
          "text": [
            "Parâmetros do lançamento oblíquo:\n",
            "Velocidade inicial: 7.4 m/s\n",
            "Ângulo de lançamento: 45.0 graus\n",
            "Altura máxima: 1.3955147808358814 m\n",
            "Alcance: 5.5820591233435275 m\n",
            "Tempo de voo: 1.0667869889460655 s\n"
          ]
        }
      ]
    },
    {
      "cell_type": "markdown",
      "source": [
        "Exercicio 3"
      ],
      "metadata": {
        "id": "Na0kS-C2_rnI"
      }
    },
    {
      "cell_type": "code",
      "source": [
        "número = int(input(\"Digite um número: \"))\n",
        "\n",
        "if número % 2 == 0:\n",
        "    print(\"O número é par\")\n",
        "else:\n",
        "    print(\"O número é ímpar\")"
      ],
      "metadata": {
        "colab": {
          "base_uri": "https://localhost:8080/"
        },
        "id": "QHJqOxkW_sxW",
        "outputId": "d6d2d5a1-bc49-46d5-d883-8a49720ccfe0"
      },
      "execution_count": 3,
      "outputs": [
        {
          "output_type": "stream",
          "name": "stdout",
          "text": [
            "Digite um número: 0\n",
            "O número é par\n"
          ]
        }
      ]
    },
    {
      "cell_type": "markdown",
      "source": [
        "Exercicio 4"
      ],
      "metadata": {
        "id": "7YZMUcDCADCV"
      }
    },
    {
      "cell_type": "code",
      "source": [
        "x = 2\n",
        "\n",
        "x += 3\n",
        "\n",
        "print(x)\n",
        "\n",
        "print(type(x))\n",
        "\n",
        "print(x+1*2)\n",
        "print((x+1.0)*2)\n",
        "\n",
        "print(type(x+1*2))\n",
        "print(type((x+1.0)*2))"
      ],
      "metadata": {
        "colab": {
          "base_uri": "https://localhost:8080/"
        },
        "id": "oLnzvblwAELU",
        "outputId": "61dad97a-f7a9-4c40-9dd7-1b4d186c2e60"
      },
      "execution_count": 9,
      "outputs": [
        {
          "output_type": "stream",
          "name": "stdout",
          "text": [
            "5\n",
            "<class 'int'>\n",
            "7\n",
            "12.0\n",
            "<class 'int'>\n",
            "<class 'float'>\n"
          ]
        }
      ]
    },
    {
      "cell_type": "markdown",
      "source": [
        "Exercicio 5"
      ],
      "metadata": {
        "id": "pIIlnvfQDtsa"
      }
    },
    {
      "cell_type": "code",
      "source": [
        "a = 80\n",
        "b = 3.14\n",
        "c = 'Variavel'\n",
        "\n",
        "print(type(a))\n",
        "print(type(b))\n",
        "print(type(c))"
      ],
      "metadata": {
        "colab": {
          "base_uri": "https://localhost:8080/"
        },
        "id": "G46QwgPKDu4-",
        "outputId": "bc9f1534-4250-4145-caca-ccdd52172b0b"
      },
      "execution_count": 10,
      "outputs": [
        {
          "output_type": "stream",
          "name": "stdout",
          "text": [
            "<class 'int'>\n",
            "<class 'float'>\n",
            "<class 'str'>\n"
          ]
        }
      ]
    },
    {
      "cell_type": "code",
      "source": [
        "d = 7+92\n",
        "print(d)\n",
        "\n",
        "e = 3.14/2.71\n",
        "print(e)\n",
        "\n",
        "f = 'Hello'\n",
        "g = 'World'\n",
        "h = f + \" \" + g\n",
        "print(h)\n",
        "\n",
        "N_Fav = input(\"Digite seu numero favorito: \")\n",
        "print(N_Fav)\n",
        "\n",
        "nome = input(\"Digite seu nome: \")\n",
        "print(f\"Bem-vindo, {nome}!\")"
      ],
      "metadata": {
        "colab": {
          "base_uri": "https://localhost:8080/"
        },
        "id": "S__WsLM7D5Sr",
        "outputId": "2ecf6295-6316-4dd3-884d-f6a2d7a4258c"
      },
      "execution_count": 20,
      "outputs": [
        {
          "output_type": "stream",
          "name": "stdout",
          "text": [
            "99\n",
            "1.1586715867158672\n",
            "Hello World\n",
            "Digite seu numero favorito: 3.14\n",
            "3.14\n",
            "Digite seu nome: Gabriel\n",
            "Bem-vindo, Gabriel!\n"
          ]
        }
      ]
    },
    {
      "cell_type": "markdown",
      "source": [
        "Exercicio 6"
      ],
      "metadata": {
        "id": "vi3Hi0bvFML0"
      }
    },
    {
      "cell_type": "code",
      "source": [
        "T_C = float(input(\"Digite a temperatura em Celsius: \"))\n",
        "T_F = (T_C * 9/5) + 32\n",
        "print(f\"A temperatura em Fahrenheit é: {T_F}\")"
      ],
      "metadata": {
        "colab": {
          "base_uri": "https://localhost:8080/"
        },
        "id": "_sF1MelvFNf2",
        "outputId": "f530d741-0332-4623-f11c-b3126e430687"
      },
      "execution_count": 27,
      "outputs": [
        {
          "output_type": "stream",
          "name": "stdout",
          "text": [
            "Digite a temperatura em Celsius: 17\n",
            "A temperatura em Fahrenheit é: 62.6\n"
          ]
        }
      ]
    },
    {
      "cell_type": "markdown",
      "source": [
        "Exercicio 7"
      ],
      "metadata": {
        "id": "3uD_H6_GF3se"
      }
    },
    {
      "cell_type": "code",
      "source": [
        "resultado = (2 * (3 + 4)) / 5\n",
        "print(resultado)"
      ],
      "metadata": {
        "colab": {
          "base_uri": "https://localhost:8080/"
        },
        "id": "ByE6zuYBF5Bs",
        "outputId": "bbb2253c-b4b8-41bd-9635-20c51cdfea1b"
      },
      "execution_count": 28,
      "outputs": [
        {
          "output_type": "stream",
          "name": "stdout",
          "text": [
            "2.8\n"
          ]
        }
      ]
    },
    {
      "cell_type": "markdown",
      "source": [
        "Exercicio 8"
      ],
      "metadata": {
        "id": "FIM7nWXEGJPx"
      }
    },
    {
      "cell_type": "code",
      "source": [
        "string = 'exemplo'\n",
        "string_invertida = string[::-1]\n",
        "print(string_invertida)"
      ],
      "metadata": {
        "colab": {
          "base_uri": "https://localhost:8080/"
        },
        "id": "sXpGawwrGLZ_",
        "outputId": "282254bf-bcc9-4a90-cffa-a8cb2077444f"
      },
      "execution_count": 29,
      "outputs": [
        {
          "output_type": "stream",
          "name": "stdout",
          "text": [
            "olpmexe\n"
          ]
        }
      ]
    },
    {
      "cell_type": "markdown",
      "source": [
        "Exercicio 9"
      ],
      "metadata": {
        "id": "17-JxM3DGWyZ"
      }
    },
    {
      "cell_type": "code",
      "source": [
        "string = \"ExEmPlO MiStUrAdO\"\n",
        "string_maiusculas = string.upper()\n",
        "print(string_maiusculas)"
      ],
      "metadata": {
        "colab": {
          "base_uri": "https://localhost:8080/"
        },
        "id": "TGw1yoEEGYEq",
        "outputId": "24e7e163-f608-4ed6-fea2-883c532f8e1d"
      },
      "execution_count": 30,
      "outputs": [
        {
          "output_type": "stream",
          "name": "stdout",
          "text": [
            "EXEMPLO MISTURADO\n"
          ]
        }
      ]
    }
  ]
}